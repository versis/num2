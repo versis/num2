{
 "cells": [
  {
   "cell_type": "markdown",
   "metadata": {},
   "source": [
    "## Reading data"
   ]
  },
  {
   "cell_type": "code",
   "execution_count": 56,
   "metadata": {
    "collapsed": false
   },
   "outputs": [],
   "source": [
    "import numpy as np\n",
    "from sklearn.cross_validation import train_test_split\n",
    "seed = 481516"
   ]
  },
  {
   "cell_type": "code",
   "execution_count": 57,
   "metadata": {
    "collapsed": false
   },
   "outputs": [],
   "source": [
    "data = np.loadtxt(open('data/train.csv', 'rb'), dtype = np.float64, skiprows = 1, delimiter = ',')"
   ]
  },
  {
   "cell_type": "code",
   "execution_count": 58,
   "metadata": {
    "collapsed": true
   },
   "outputs": [],
   "source": [
    "#data = data[:2000]"
   ]
  },
  {
   "cell_type": "code",
   "execution_count": 59,
   "metadata": {
    "collapsed": false
   },
   "outputs": [
    {
     "data": {
      "text/plain": [
       "(96320, 22)"
      ]
     },
     "execution_count": 59,
     "metadata": {},
     "output_type": "execute_result"
    }
   ],
   "source": [
    "data.shape"
   ]
  },
  {
   "cell_type": "code",
   "execution_count": 60,
   "metadata": {
    "collapsed": false
   },
   "outputs": [],
   "source": [
    "features = data[:,:-1]\n",
    "labels = data[:,-1]"
   ]
  },
  {
   "cell_type": "code",
   "execution_count": 61,
   "metadata": {
    "collapsed": true
   },
   "outputs": [],
   "source": [
    "from sklearn.preprocessing import OneHotEncoder\n",
    "enc = OneHotEncoder()"
   ]
  },
  {
   "cell_type": "code",
   "execution_count": 62,
   "metadata": {
    "collapsed": false
   },
   "outputs": [],
   "source": [
    "labels = enc.fit_transform(labels.reshape(-1,1)).toarray()"
   ]
  },
  {
   "cell_type": "code",
   "execution_count": 63,
   "metadata": {
    "collapsed": true
   },
   "outputs": [],
   "source": [
    "X_train, X_test, Y_train, Y_test = train_test_split(features, labels, test_size = 0.3, random_state = seed)"
   ]
  },
  {
   "cell_type": "code",
   "execution_count": 64,
   "metadata": {
    "collapsed": true
   },
   "outputs": [],
   "source": [
    "tour_data = np.loadtxt(open('data/tour.csv', 'rb'), dtype = np.float64, skiprows = 1, delimiter = ',')\n",
    "tour_features = tour_data[:,1:]\n",
    "tour_ids = tour_data[:,0].astype(int)"
   ]
  },
  {
   "cell_type": "markdown",
   "metadata": {},
   "source": [
    "## Saving results"
   ]
  },
  {
   "cell_type": "code",
   "execution_count": 65,
   "metadata": {
    "collapsed": true
   },
   "outputs": [],
   "source": [
    "def saveTournamentResults(tour_predictions, labels, fileName ='predictions'):\n",
    "    with open('{0}.csv'.format(fileName), 'wb') as f:\n",
    "        f.write('\"t_id\",\"probability\"\\n')\n",
    "        for i in xrange(len(labels)):\n",
    "            f.write(\"{0},{1}\\n\".format(labels[i], tour_predictions[i][0]))"
   ]
  },
  {
   "cell_type": "markdown",
   "metadata": {},
   "source": [
    "## Linear regression"
   ]
  },
  {
   "cell_type": "code",
   "execution_count": null,
   "metadata": {
    "collapsed": true
   },
   "outputs": [],
   "source": [
    "from sklearn.linear_model import LinearRegression\n",
    "lr = LinearRegression()"
   ]
  },
  {
   "cell_type": "code",
   "execution_count": null,
   "metadata": {
    "collapsed": false
   },
   "outputs": [],
   "source": [
    "lr.fit(X_train, Y_train)"
   ]
  },
  {
   "cell_type": "code",
   "execution_count": null,
   "metadata": {
    "collapsed": false
   },
   "outputs": [],
   "source": [
    "lr.score(X_test, Y_test)"
   ]
  },
  {
   "cell_type": "code",
   "execution_count": null,
   "metadata": {
    "collapsed": false
   },
   "outputs": [],
   "source": [
    "tour_predictions = lr.predict(tour_features)"
   ]
  },
  {
   "cell_type": "code",
   "execution_count": null,
   "metadata": {
    "collapsed": false
   },
   "outputs": [],
   "source": [
    "saveTournamentResults(tour_predictions, tour_ids)"
   ]
  },
  {
   "cell_type": "markdown",
   "metadata": {},
   "source": [
    "## SVM"
   ]
  },
  {
   "cell_type": "code",
   "execution_count": null,
   "metadata": {
    "collapsed": false
   },
   "outputs": [],
   "source": [
    "from sklearn.svm import SVC\n",
    "svc = SVC()\n",
    "svc.fit(X_train, Y_train)\n",
    "svc.score(X_test, Y_test)"
   ]
  },
  {
   "cell_type": "code",
   "execution_count": null,
   "metadata": {
    "collapsed": true
   },
   "outputs": [],
   "source": [
    "svc_pred = svc.predict(tour_features)\n",
    "saveTournamentResultsournamentResultsournamentResults(svc_pred, tour_ids)"
   ]
  },
  {
   "cell_type": "markdown",
   "metadata": {},
   "source": [
    "## t-SNE"
   ]
  },
  {
   "cell_type": "code",
   "execution_count": null,
   "metadata": {
    "collapsed": false
   },
   "outputs": [],
   "source": [
    "from sklearn.manifold import TSNE\n",
    "tsne = TSNE()\n",
    "tsne_points = tsne.fit_transform(features, labels)"
   ]
  },
  {
   "cell_type": "code",
   "execution_count": null,
   "metadata": {
    "collapsed": false
   },
   "outputs": [],
   "source": [
    "tsne_points"
   ]
  },
  {
   "cell_type": "markdown",
   "metadata": {},
   "source": [
    "# keras"
   ]
  },
  {
   "cell_type": "code",
   "execution_count": 66,
   "metadata": {
    "collapsed": false
   },
   "outputs": [],
   "source": [
    "from keras.models import Sequential\n",
    "from keras.layers.core import Dense, Dropout"
   ]
  },
  {
   "cell_type": "code",
   "execution_count": 67,
   "metadata": {
    "collapsed": true
   },
   "outputs": [],
   "source": [
    "model = Sequential()\n",
    "model.add(Dense(15, input_shape=(21,), activation='tanh'))\n",
    "model.add(Dropout(0.7))\n",
    "model.add(Dense(10, activation='tanh'))\n",
    "model.add(Dropout(0.7))\n",
    "model.add(Dense(5, activation='tanh'))\n",
    "model.add(Dropout(0.3))\n",
    "model.add(Dense(2, activation='tanh'))\n",
    "model.compile(optimizer='sgd', loss='binary_crossentropy')"
   ]
  },
  {
   "cell_type": "code",
   "execution_count": 68,
   "metadata": {
    "collapsed": false
   },
   "outputs": [
    {
     "name": "stdout",
     "output_type": "stream",
     "text": [
      "Epoch 1/100\n",
      "67424/67424 [==============================] - 0s - loss: 2.7688     \n",
      "Epoch 2/100\n",
      "67424/67424 [==============================] - 0s - loss: 1.4972     \n",
      "Epoch 3/100\n",
      "67424/67424 [==============================] - 0s - loss: 1.0897     \n",
      "Epoch 4/100\n",
      "67424/67424 [==============================] - 0s - loss: 0.8063     \n",
      "Epoch 5/100\n",
      "67424/67424 [==============================] - 0s - loss: 0.7271     \n",
      "Epoch 6/100\n",
      "67424/67424 [==============================] - 0s - loss: 0.7069     \n",
      "Epoch 7/100\n",
      "67424/67424 [==============================] - 0s - loss: 0.6990     \n",
      "Epoch 8/100\n",
      "67424/67424 [==============================] - 0s - loss: 0.6958     \n",
      "Epoch 9/100\n",
      "67424/67424 [==============================] - 0s - loss: 0.6945     \n",
      "Epoch 10/100\n",
      "67424/67424 [==============================] - 0s - loss: 0.6939     \n",
      "Epoch 11/100\n",
      "67424/67424 [==============================] - 0s - loss: 0.6935     \n",
      "Epoch 12/100\n",
      "67424/67424 [==============================] - 0s - loss: 0.6933     \n",
      "Epoch 13/100\n",
      "67424/67424 [==============================] - 0s - loss: 0.6932     \n",
      "Epoch 14/100\n",
      "67424/67424 [==============================] - 0s - loss: 0.6932     \n",
      "Epoch 15/100\n",
      "67424/67424 [==============================] - 0s - loss: 0.6932     \n",
      "Epoch 16/100\n",
      "67424/67424 [==============================] - 0s - loss: 0.6931     \n",
      "Epoch 17/100\n",
      "67424/67424 [==============================] - 0s - loss: 0.6931     \n",
      "Epoch 18/100\n",
      "67424/67424 [==============================] - 0s - loss: 0.6932     \n",
      "Epoch 19/100\n",
      "67424/67424 [==============================] - 0s - loss: 0.6931     \n",
      "Epoch 20/100\n",
      "67424/67424 [==============================] - 0s - loss: 0.6931     \n",
      "Epoch 21/100\n",
      "67424/67424 [==============================] - 0s - loss: 0.6932     \n",
      "Epoch 22/100\n",
      "67424/67424 [==============================] - 0s - loss: 0.6931     \n",
      "Epoch 23/100\n",
      "67424/67424 [==============================] - 0s - loss: 0.6931     \n",
      "Epoch 24/100\n",
      "67424/67424 [==============================] - 0s - loss: 0.6931     \n",
      "Epoch 25/100\n",
      "67424/67424 [==============================] - 0s - loss: 0.6931     \n",
      "Epoch 26/100\n",
      "67424/67424 [==============================] - 0s - loss: 0.6931     \n",
      "Epoch 27/100\n",
      "67424/67424 [==============================] - 0s - loss: 0.6931     \n",
      "Epoch 28/100\n",
      "67424/67424 [==============================] - 0s - loss: 0.6931     \n",
      "Epoch 29/100\n",
      "67424/67424 [==============================] - 0s - loss: 0.6931     \n",
      "Epoch 30/100\n",
      "67424/67424 [==============================] - 0s - loss: 0.6931     \n",
      "Epoch 31/100\n",
      "67424/67424 [==============================] - 0s - loss: 0.6931     \n",
      "Epoch 32/100\n",
      "67424/67424 [==============================] - 0s - loss: 0.6931     \n",
      "Epoch 33/100\n",
      "67424/67424 [==============================] - 0s - loss: 0.6931     \n",
      "Epoch 34/100\n",
      "67424/67424 [==============================] - 0s - loss: 0.6931     \n",
      "Epoch 35/100\n",
      "67424/67424 [==============================] - 0s - loss: 0.6931     \n",
      "Epoch 36/100\n",
      "67424/67424 [==============================] - 0s - loss: 0.6931     \n",
      "Epoch 37/100\n",
      "67424/67424 [==============================] - 0s - loss: 0.6931     \n",
      "Epoch 38/100\n",
      "67424/67424 [==============================] - 0s - loss: 0.6932     \n",
      "Epoch 39/100\n",
      "67424/67424 [==============================] - 0s - loss: 0.6932     \n",
      "Epoch 40/100\n",
      "67424/67424 [==============================] - 0s - loss: 0.6931     \n",
      "Epoch 41/100\n",
      "67424/67424 [==============================] - 0s - loss: 0.6931     \n",
      "Epoch 42/100\n",
      "67424/67424 [==============================] - 0s - loss: 0.6931     \n",
      "Epoch 43/100\n",
      "67424/67424 [==============================] - 0s - loss: 0.6932     \n",
      "Epoch 44/100\n",
      "67424/67424 [==============================] - 0s - loss: 0.6931     \n",
      "Epoch 45/100\n",
      "67424/67424 [==============================] - 0s - loss: 0.6931     \n",
      "Epoch 46/100\n",
      "67424/67424 [==============================] - 0s - loss: 0.6931     \n",
      "Epoch 47/100\n",
      "67424/67424 [==============================] - 0s - loss: 0.6931     \n",
      "Epoch 48/100\n",
      "67424/67424 [==============================] - 0s - loss: 0.6931     \n",
      "Epoch 49/100\n",
      "67424/67424 [==============================] - 0s - loss: 0.6932     \n",
      "Epoch 50/100\n",
      "67424/67424 [==============================] - 0s - loss: 0.6931     \n",
      "Epoch 51/100\n",
      "67424/67424 [==============================] - 0s - loss: 0.6931     \n",
      "Epoch 52/100\n",
      "67424/67424 [==============================] - 0s - loss: 0.6931     \n",
      "Epoch 53/100\n",
      "67424/67424 [==============================] - 0s - loss: 0.6931     \n",
      "Epoch 54/100\n",
      "67424/67424 [==============================] - 0s - loss: 0.6931     \n",
      "Epoch 55/100\n",
      "67424/67424 [==============================] - 0s - loss: 0.6932     \n",
      "Epoch 56/100\n",
      "67424/67424 [==============================] - 0s - loss: 0.6931     \n",
      "Epoch 57/100\n",
      "67424/67424 [==============================] - 0s - loss: 0.6932     \n",
      "Epoch 58/100\n",
      "67424/67424 [==============================] - 0s - loss: 0.6931     \n",
      "Epoch 59/100\n",
      "67424/67424 [==============================] - 0s - loss: 0.6931     \n",
      "Epoch 60/100\n",
      "67424/67424 [==============================] - 0s - loss: 0.6932     \n",
      "Epoch 61/100\n",
      "67424/67424 [==============================] - 0s - loss: 0.6932     \n",
      "Epoch 62/100\n",
      "67424/67424 [==============================] - 0s - loss: 0.6931     \n",
      "Epoch 63/100\n",
      "67424/67424 [==============================] - 0s - loss: 0.6932     \n",
      "Epoch 64/100\n",
      "67424/67424 [==============================] - 0s - loss: 0.6931     \n",
      "Epoch 65/100\n",
      "67424/67424 [==============================] - 0s - loss: 0.6931     \n",
      "Epoch 66/100\n",
      "67424/67424 [==============================] - 0s - loss: 0.6931     \n",
      "Epoch 67/100\n",
      "67424/67424 [==============================] - 0s - loss: 0.6931     \n",
      "Epoch 68/100\n",
      "67424/67424 [==============================] - 0s - loss: 0.6932     \n",
      "Epoch 69/100\n",
      "67424/67424 [==============================] - 0s - loss: 0.6931     \n",
      "Epoch 70/100\n",
      "67424/67424 [==============================] - 0s - loss: 0.6932     \n",
      "Epoch 71/100\n",
      "67424/67424 [==============================] - 0s - loss: 0.6931     \n",
      "Epoch 72/100\n",
      "67424/67424 [==============================] - 0s - loss: 0.6931     \n",
      "Epoch 73/100\n",
      "67424/67424 [==============================] - 0s - loss: 0.6931     \n",
      "Epoch 74/100\n",
      "67424/67424 [==============================] - 0s - loss: 0.6931     \n",
      "Epoch 75/100\n",
      "67424/67424 [==============================] - 0s - loss: 0.6931     \n",
      "Epoch 76/100\n",
      "67424/67424 [==============================] - 0s - loss: 0.6931     \n",
      "Epoch 77/100\n",
      "67424/67424 [==============================] - 0s - loss: 0.6931     \n",
      "Epoch 78/100\n",
      "67424/67424 [==============================] - 0s - loss: 0.6931     \n",
      "Epoch 79/100\n",
      "67424/67424 [==============================] - 0s - loss: 0.6932     \n",
      "Epoch 80/100\n",
      "67424/67424 [==============================] - 0s - loss: 0.6931     \n",
      "Epoch 81/100\n",
      "67424/67424 [==============================] - 0s - loss: 0.6932     \n",
      "Epoch 82/100\n",
      "67424/67424 [==============================] - 0s - loss: 0.6931     \n",
      "Epoch 83/100\n",
      "67424/67424 [==============================] - 0s - loss: 0.6931     \n",
      "Epoch 84/100\n",
      "67424/67424 [==============================] - 0s - loss: 0.6931     \n",
      "Epoch 85/100\n",
      "67424/67424 [==============================] - 0s - loss: 0.6932     \n",
      "Epoch 86/100\n",
      "67424/67424 [==============================] - 0s - loss: 0.6931     \n",
      "Epoch 87/100\n",
      "67424/67424 [==============================] - 0s - loss: 0.6931     \n",
      "Epoch 88/100\n",
      "67424/67424 [==============================] - 0s - loss: 0.6932     \n",
      "Epoch 89/100\n",
      "67424/67424 [==============================] - 0s - loss: 0.6931     \n",
      "Epoch 90/100\n",
      "67424/67424 [==============================] - 0s - loss: 0.6931     \n",
      "Epoch 91/100\n",
      "67424/67424 [==============================] - 0s - loss: 0.6931     \n",
      "Epoch 92/100\n",
      "67424/67424 [==============================] - 0s - loss: 0.6931     \n",
      "Epoch 93/100\n",
      "67424/67424 [==============================] - 0s - loss: 0.6931     \n",
      "Epoch 94/100\n",
      "67424/67424 [==============================] - 0s - loss: 0.6931     \n",
      "Epoch 95/100\n",
      "67424/67424 [==============================] - 0s - loss: 0.6931     \n",
      "Epoch 96/100\n",
      "67424/67424 [==============================] - 0s - loss: 0.6931     \n",
      "Epoch 97/100\n",
      "67424/67424 [==============================] - 0s - loss: 0.6931     \n",
      "Epoch 98/100\n",
      "67424/67424 [==============================] - 0s - loss: 0.6931     \n",
      "Epoch 99/100\n",
      "67424/67424 [==============================] - 0s - loss: 0.6931     \n",
      "Epoch 100/100\n",
      "67424/67424 [==============================] - 0s - loss: 0.6932     \n"
     ]
    },
    {
     "data": {
      "text/plain": [
       "<keras.callbacks.History at 0x7efccdd07350>"
      ]
     },
     "execution_count": 68,
     "metadata": {},
     "output_type": "execute_result"
    }
   ],
   "source": [
    "model.fit(X_train, Y_train, nb_epoch=100, batch_size=1000)"
   ]
  },
  {
   "cell_type": "code",
   "execution_count": 69,
   "metadata": {
    "collapsed": true
   },
   "outputs": [],
   "source": [
    "predictions = model.predict(tour_features)"
   ]
  },
  {
   "cell_type": "code",
   "execution_count": 70,
   "metadata": {
    "collapsed": false
   },
   "outputs": [],
   "source": [
    "saveTournamentResults(predictions, tour_ids)"
   ]
  },
  {
   "cell_type": "code",
   "execution_count": null,
   "metadata": {
    "collapsed": true
   },
   "outputs": [],
   "source": [
    "\n"
   ]
  }
 ],
 "metadata": {
  "kernelspec": {
   "display_name": "Python 2",
   "language": "python",
   "name": "python2"
  },
  "language_info": {
   "codemirror_mode": {
    "name": "ipython",
    "version": 2
   },
   "file_extension": ".py",
   "mimetype": "text/x-python",
   "name": "python",
   "nbconvert_exporter": "python",
   "pygments_lexer": "ipython2",
   "version": "2.7.11"
  }
 },
 "nbformat": 4,
 "nbformat_minor": 0
}
