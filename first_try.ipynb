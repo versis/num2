{
 "cells": [
  {
   "cell_type": "markdown",
   "metadata": {},
   "source": [
    "## Reading data"
   ]
  },
  {
   "cell_type": "code",
   "execution_count": 39,
   "metadata": {
    "collapsed": false
   },
   "outputs": [],
   "source": [
    "import numpy as np\n",
    "from sklearn.cross_validation import train_test_split\n",
    "seed = 481516"
   ]
  },
  {
   "cell_type": "code",
   "execution_count": 40,
   "metadata": {
    "collapsed": false
   },
   "outputs": [],
   "source": [
    "data = np.loadtxt(open('data/train.csv', 'rb'), dtype = np.float64, skiprows = 1, delimiter = ',')"
   ]
  },
  {
   "cell_type": "code",
   "execution_count": 41,
   "metadata": {
    "collapsed": true
   },
   "outputs": [],
   "source": [
    "#data = data[:2000]"
   ]
  },
  {
   "cell_type": "code",
   "execution_count": 42,
   "metadata": {
    "collapsed": false
   },
   "outputs": [
    {
     "data": {
      "text/plain": [
       "(96320, 22)"
      ]
     },
     "execution_count": 42,
     "metadata": {},
     "output_type": "execute_result"
    }
   ],
   "source": [
    "data.shape"
   ]
  },
  {
   "cell_type": "code",
   "execution_count": 43,
   "metadata": {
    "collapsed": false
   },
   "outputs": [],
   "source": [
    "features = data[:,:-1]\n",
    "labels = data[:,-1]"
   ]
  },
  {
   "cell_type": "code",
   "execution_count": 44,
   "metadata": {
    "collapsed": true
   },
   "outputs": [],
   "source": [
    "X_train, X_test, Y_train, Y_test = train_test_split(features, labels, test_size = 0.3, random_state = seed)"
   ]
  },
  {
   "cell_type": "code",
   "execution_count": 45,
   "metadata": {
    "collapsed": true
   },
   "outputs": [],
   "source": [
    "tour_data = np.loadtxt(open('data/tour.csv', 'rb'), dtype = np.float64, skiprows = 1, delimiter = ',')\n",
    "tour_features = tour_data[:,1:]\n",
    "tour_ids = tour_data[:,0].astype(int)"
   ]
  },
  {
   "cell_type": "markdown",
   "metadata": {},
   "source": [
    "## Saving results"
   ]
  },
  {
   "cell_type": "code",
   "execution_count": 46,
   "metadata": {
    "collapsed": true
   },
   "outputs": [],
   "source": [
    "def saveTournamentResults(tour_predictions, labels, fileName ='predictions'):\n",
    "    with open('{0}.csv'.format(fileName), 'wb') as f:\n",
    "        f.write('\"t_id\",\"probability\"\\n')\n",
    "        for i in xrange(len(labels)):\n",
    "            f.write(\"{0},{1}\\n\".format(labels[i], tour_predictions[i][0]))"
   ]
  },
  {
   "cell_type": "markdown",
   "metadata": {},
   "source": [
    "## Linear regression"
   ]
  },
  {
   "cell_type": "code",
   "execution_count": null,
   "metadata": {
    "collapsed": true
   },
   "outputs": [],
   "source": [
    "from sklearn.linear_model import LinearRegression\n",
    "lr = LinearRegression()"
   ]
  },
  {
   "cell_type": "code",
   "execution_count": null,
   "metadata": {
    "collapsed": false
   },
   "outputs": [],
   "source": [
    "lr.fit(X_train, Y_train)"
   ]
  },
  {
   "cell_type": "code",
   "execution_count": null,
   "metadata": {
    "collapsed": false
   },
   "outputs": [],
   "source": [
    "lr.score(X_test, Y_test)"
   ]
  },
  {
   "cell_type": "code",
   "execution_count": null,
   "metadata": {
    "collapsed": false
   },
   "outputs": [],
   "source": [
    "tour_predictions = lr.predict(tour_features)"
   ]
  },
  {
   "cell_type": "code",
   "execution_count": null,
   "metadata": {
    "collapsed": false
   },
   "outputs": [],
   "source": [
    "saveTournamentResults(tour_predictions, tour_ids)"
   ]
  },
  {
   "cell_type": "markdown",
   "metadata": {},
   "source": [
    "## SVM"
   ]
  },
  {
   "cell_type": "code",
   "execution_count": null,
   "metadata": {
    "collapsed": false
   },
   "outputs": [],
   "source": [
    "from sklearn.svm import SVC\n",
    "svc = SVC()\n",
    "svc.fit(X_train, Y_train)\n",
    "svc.score(X_test, Y_test)"
   ]
  },
  {
   "cell_type": "code",
   "execution_count": null,
   "metadata": {
    "collapsed": true
   },
   "outputs": [],
   "source": [
    "svc_pred = svc.predict(tour_features)\n",
    "saveTournamentResultsournamentResultsournamentResults(svc_pred, tour_ids)"
   ]
  },
  {
   "cell_type": "markdown",
   "metadata": {},
   "source": [
    "## t-SNE"
   ]
  },
  {
   "cell_type": "code",
   "execution_count": null,
   "metadata": {
    "collapsed": false
   },
   "outputs": [],
   "source": [
    "from sklearn.manifold import TSNE\n",
    "tsne = TSNE()\n",
    "tsne_points = tsne.fit_transform(features, labels)"
   ]
  },
  {
   "cell_type": "code",
   "execution_count": null,
   "metadata": {
    "collapsed": false
   },
   "outputs": [],
   "source": [
    "tsne_points"
   ]
  },
  {
   "cell_type": "markdown",
   "metadata": {},
   "source": [
    "# keras"
   ]
  },
  {
   "cell_type": "code",
   "execution_count": 47,
   "metadata": {
    "collapsed": false
   },
   "outputs": [],
   "source": [
    "from keras.models import Sequential\n",
    "from keras.layers.core import Dense, Dropout"
   ]
  },
  {
   "cell_type": "code",
   "execution_count": 48,
   "metadata": {
    "collapsed": true
   },
   "outputs": [],
   "source": [
    "model = Sequential()\n",
    "model.add(Dense(10, input_shape=(21,), activation='tanh'))\n",
    "model.add(Dropout(0.4))\n",
    "model.add(Dense(5, activation='tanh'))\n",
    "model.add(Dropout(0.4))\n",
    "model.add(Dense(1, activation='tanh'))\n",
    "model.compile(optimizer='sgd', loss='binary_crossentropy')"
   ]
  },
  {
   "cell_type": "code",
   "execution_count": null,
   "metadata": {
    "collapsed": false
   },
   "outputs": [
    {
     "name": "stdout",
     "output_type": "stream",
     "text": [
      "Epoch 1/20\n",
      "67424/67424 [==============================] - 1s - loss: 0.7267     \n",
      "Epoch 2/20\n",
      "67424/67424 [==============================] - 1s - loss: 0.6939     \n",
      "Epoch 3/20\n",
      "67424/67424 [==============================] - 1s - loss: 0.6939     \n",
      "Epoch 4/20\n",
      "67424/67424 [==============================] - 1s - loss: 0.6937     \n",
      "Epoch 5/20\n",
      "67424/67424 [==============================] - 1s - loss: 0.6937     \n",
      "Epoch 6/20\n",
      "67424/67424 [==============================] - 1s - loss: 0.6939     \n",
      "Epoch 7/20\n",
      "67424/67424 [==============================] - 1s - loss: 0.6940     \n",
      "Epoch 8/20\n",
      "67424/67424 [==============================] - 1s - loss: 0.6935     \n",
      "Epoch 9/20\n",
      "67424/67424 [==============================] - 1s - loss: 0.6938     \n",
      "Epoch 10/20\n",
      "67424/67424 [==============================] - 1s - loss: 0.6940     \n",
      "Epoch 11/20\n",
      "67424/67424 [==============================] - 1s - loss: 0.6937     \n",
      "Epoch 12/20\n",
      "67424/67424 [==============================] - 1s - loss: 0.6938     \n",
      "Epoch 13/20\n",
      "67424/67424 [==============================] - 1s - loss: 0.6936     \n",
      "Epoch 14/20\n",
      "67424/67424 [==============================] - 1s - loss: 0.6937     \n",
      "Epoch 15/20\n",
      "67424/67424 [==============================] - 1s - loss: 0.6938     \n",
      "Epoch 16/20\n",
      "67424/67424 [==============================] - 1s - loss: 0.6936     \n",
      "Epoch 17/20\n",
      "67424/67424 [==============================] - 1s - loss: 0.6937     \n",
      "Epoch 18/20\n",
      "67424/67424 [==============================] - 1s - loss: 0.6935     \n",
      "Epoch 19/20\n",
      " 1248/67424 [..............................] - ETA: 2s - loss: 0.6914"
     ]
    }
   ],
   "source": [
    "model.fit(X_train, Y_train, nb_epoch=20, batch_size=32)"
   ]
  },
  {
   "cell_type": "code",
   "execution_count": 32,
   "metadata": {
    "collapsed": true
   },
   "outputs": [],
   "source": [
    "predictions = model.predict(tour_features)"
   ]
  },
  {
   "cell_type": "code",
   "execution_count": 38,
   "metadata": {
    "collapsed": false
   },
   "outputs": [],
   "source": [
    "saveTournamentResults(predictions, tour_ids)"
   ]
  },
  {
   "cell_type": "code",
   "execution_count": null,
   "metadata": {
    "collapsed": true
   },
   "outputs": [],
   "source": [
    "\n"
   ]
  }
 ],
 "metadata": {
  "kernelspec": {
   "display_name": "Python 2",
   "language": "python",
   "name": "python2"
  },
  "language_info": {
   "codemirror_mode": {
    "name": "ipython",
    "version": 2
   },
   "file_extension": ".py",
   "mimetype": "text/x-python",
   "name": "python",
   "nbconvert_exporter": "python",
   "pygments_lexer": "ipython2",
   "version": "2.7.11"
  }
 },
 "nbformat": 4,
 "nbformat_minor": 0
}
